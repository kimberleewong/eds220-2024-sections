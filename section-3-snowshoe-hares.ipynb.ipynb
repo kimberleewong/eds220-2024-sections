{
 "cells": [
  {
   "cell_type": "code",
   "execution_count": 32,
   "id": "8bdaa4a7-03b9-4651-9bd1-ee7753994a83",
   "metadata": {
    "tags": []
   },
   "outputs": [],
   "source": [
    "import pandas as pd\n",
    "import numpy as np"
   ]
  },
  {
   "cell_type": "markdown",
   "id": "b9d07358-35a4-4edb-ba1e-ef7ff3447fe4",
   "metadata": {
    "jp-MarkdownHeadingCollapsed": true,
    "tags": []
   },
   "source": [
    "## Archive Exploration\n",
    "\n",
    "This data is about the physical attributes of snowshoe hares in Bonanza Creek Experimental Forest. The data was taken from 1999-06-01 to 2012-09-14. Unsure if it contains sensitive data. \n",
    "![image description](https://upload.wikimedia.org/wikipedia/commons/thumb/8/8a/SNOWSHOE_HARE_%28Lepus_americanus%29_%285-28-2015%29_quoddy_head%2C_washington_co%2C_maine_-01_%2818988734889%29.jpg/1452px-SNOWSHOE_HARE_%28Lepus_americanus%29_%285-28-2015%29_quoddy_head%2C_washington_co%2C_maine_-01_%2818988734889%29.jpg?20170313021652)"
   ]
  },
  {
   "cell_type": "markdown",
   "id": "227ec0c1-269b-47a8-8583-2ed4c9113211",
   "metadata": {},
   "source": [
    "## Data loading and preliminary exploration"
   ]
  },
  {
   "cell_type": "code",
   "execution_count": 4,
   "id": "1e8b2e8d-b461-4a96-80eb-6300588872c7",
   "metadata": {
    "tags": []
   },
   "outputs": [],
   "source": [
    "hares = pd.read_csv('https://portal.edirepository.org/nis/dataviewer?packageid=knb-lter-bnz.55.22&entityid=f01f5d71be949b8c700b6ecd1c42c701')"
   ]
  },
  {
   "cell_type": "code",
   "execution_count": 5,
   "id": "240b6dde-e23c-458d-9f99-d4499579173d",
   "metadata": {
    "tags": []
   },
   "outputs": [
    {
     "data": {
      "text/plain": [
       "(3380, 14)"
      ]
     },
     "execution_count": 5,
     "metadata": {},
     "output_type": "execute_result"
    }
   ],
   "source": [
    "hares.shape"
   ]
  },
  {
   "cell_type": "code",
   "execution_count": 6,
   "id": "9e4d7b0d-61f8-49a2-a22f-ac72a2f42943",
   "metadata": {
    "tags": []
   },
   "outputs": [
    {
     "data": {
      "text/plain": [
       "Index(['date', 'time', 'grid', 'trap', 'l_ear', 'r_ear', 'sex', 'age',\n",
       "       'weight', 'hindft', 'notes', 'b_key', 'session_id', 'study'],\n",
       "      dtype='object')"
      ]
     },
     "execution_count": 6,
     "metadata": {},
     "output_type": "execute_result"
    }
   ],
   "source": [
    "hares.columns"
   ]
  },
  {
   "cell_type": "code",
   "execution_count": 7,
   "id": "b6108bef-aaa1-4162-9355-14ba851fef04",
   "metadata": {
    "tags": []
   },
   "outputs": [
    {
     "data": {
      "text/plain": [
       "date           object\n",
       "time           object\n",
       "grid           object\n",
       "trap           object\n",
       "l_ear          object\n",
       "r_ear          object\n",
       "sex            object\n",
       "age            object\n",
       "weight        float64\n",
       "hindft        float64\n",
       "notes          object\n",
       "b_key         float64\n",
       "session_id      int64\n",
       "study          object\n",
       "dtype: object"
      ]
     },
     "execution_count": 7,
     "metadata": {},
     "output_type": "execute_result"
    }
   ],
   "source": [
    "hares.dtypes"
   ]
  },
  {
   "cell_type": "code",
   "execution_count": 8,
   "id": "61bc0998-da71-4757-b3b9-e7e16645b319",
   "metadata": {
    "tags": []
   },
   "outputs": [
    {
     "data": {
      "text/plain": [
       "array([nan, 'M', 'F', '?', 'F?', 'M?', 'pf', 'm', 'f', 'f?', 'm?', 'f ',\n",
       "       'm '], dtype=object)"
      ]
     },
     "execution_count": 8,
     "metadata": {},
     "output_type": "execute_result"
    }
   ],
   "source": [
    "hares['sex'].unique()"
   ]
  },
  {
   "cell_type": "markdown",
   "id": "d7800d30-147c-44bb-bb7f-7417500b8549",
   "metadata": {},
   "source": [
    "## 4. Detecting messy values\n",
    "\n",
    "### a. \n",
    "| Sex Code     | Description |\n",
    "| ----------- | ----------- |\n",
    "| m?   | Male - not confirmed        |\n",
    "| m      | Male       |\n",
    "| f   | Female        |\n",
    "\n",
    "### b. "
   ]
  },
  {
   "cell_type": "code",
   "execution_count": 17,
   "id": "0be0742a-fce8-4771-a166-50ce88564b7d",
   "metadata": {
    "tags": []
   },
   "outputs": [
    {
     "data": {
      "text/plain": [
       "F     1161\n",
       "M      730\n",
       "f      556\n",
       "m      515\n",
       "?       40\n",
       "F?      10\n",
       "f        4\n",
       "m        4\n",
       "f?       3\n",
       "M?       2\n",
       "m?       2\n",
       "pf       1\n",
       "Name: sex, dtype: int64"
      ]
     },
     "execution_count": 17,
     "metadata": {},
     "output_type": "execute_result"
    }
   ],
   "source": [
    "hares['sex'].value_counts(dropna = True)"
   ]
  },
  {
   "cell_type": "code",
   "execution_count": 29,
   "id": "ff1e5bbf-8454-4d81-8048-8c2f7318adc9",
   "metadata": {
    "tags": []
   },
   "outputs": [],
   "source": [
    "# help(pd.Series.value_counts)\n",
    "# The default is dropna = True, and it doesnt include Nan values"
   ]
  },
  {
   "cell_type": "code",
   "execution_count": 30,
   "id": "54df8291-0f01-4066-a59c-e07f5c478240",
   "metadata": {
    "tags": []
   },
   "outputs": [
    {
     "data": {
      "text/plain": [
       "F      1161\n",
       "M       730\n",
       "f       556\n",
       "m       515\n",
       "NaN     352\n",
       "?        40\n",
       "F?       10\n",
       "f         4\n",
       "m         4\n",
       "f?        3\n",
       "M?        2\n",
       "m?        2\n",
       "pf        1\n",
       "Name: sex, dtype: int64"
      ]
     },
     "execution_count": 30,
     "metadata": {},
     "output_type": "execute_result"
    }
   ],
   "source": [
    "hares['sex'].value_counts(dropna = False)"
   ]
  },
  {
   "cell_type": "markdown",
   "id": "c300f647-6c35-4d69-9a5d-af4a5c935a1b",
   "metadata": {},
   "source": [
    "Discuss with your team the output of the unique value counts. In particular:\n",
    "\n",
    "Do the values in the sex column correspond to the values declared in the metadata?\n",
    "No, there were only three values declared in the metadata.\n",
    "\n",
    "What could have been potential causes for multiple codes?\n",
    "If there were multiple observers who used different syntax for the gender value, then there would be more codes.\n",
    "\n",
    "Are there seemingly repated values? If so, what could be the cause?\n",
    "Yes, there are seemingly repeated values. The cause could be different observers who didnt communicate a common code."
   ]
  },
  {
   "cell_type": "markdown",
   "id": "1143c194-ecdc-43d6-86fa-54b92db30664",
   "metadata": {},
   "source": [
    "## 6. Data Wrangle"
   ]
  },
  {
   "cell_type": "code",
   "execution_count": 33,
   "id": "fcce7130-5c71-492f-8c64-ac2a72e63b7e",
   "metadata": {
    "tags": []
   },
   "outputs": [
    {
     "data": {
      "text/html": [
       "<div>\n",
       "<style scoped>\n",
       "    .dataframe tbody tr th:only-of-type {\n",
       "        vertical-align: middle;\n",
       "    }\n",
       "\n",
       "    .dataframe tbody tr th {\n",
       "        vertical-align: top;\n",
       "    }\n",
       "\n",
       "    .dataframe thead th {\n",
       "        text-align: right;\n",
       "    }\n",
       "</style>\n",
       "<table border=\"1\" class=\"dataframe\">\n",
       "  <thead>\n",
       "    <tr style=\"text-align: right;\">\n",
       "      <th></th>\n",
       "      <th>date</th>\n",
       "      <th>time</th>\n",
       "      <th>grid</th>\n",
       "      <th>trap</th>\n",
       "      <th>l_ear</th>\n",
       "      <th>r_ear</th>\n",
       "      <th>sex</th>\n",
       "      <th>age</th>\n",
       "      <th>weight</th>\n",
       "      <th>hindft</th>\n",
       "      <th>notes</th>\n",
       "      <th>b_key</th>\n",
       "      <th>session_id</th>\n",
       "      <th>study</th>\n",
       "      <th>simple_sex</th>\n",
       "    </tr>\n",
       "  </thead>\n",
       "  <tbody>\n",
       "    <tr>\n",
       "      <th>0</th>\n",
       "      <td>11/26/1998</td>\n",
       "      <td>NaN</td>\n",
       "      <td>bonrip</td>\n",
       "      <td>1A</td>\n",
       "      <td>414D096A08</td>\n",
       "      <td>NaN</td>\n",
       "      <td>NaN</td>\n",
       "      <td>NaN</td>\n",
       "      <td>1370.0</td>\n",
       "      <td>160.0</td>\n",
       "      <td>NaN</td>\n",
       "      <td>917.0</td>\n",
       "      <td>51</td>\n",
       "      <td>Population</td>\n",
       "      <td>nan</td>\n",
       "    </tr>\n",
       "    <tr>\n",
       "      <th>1</th>\n",
       "      <td>11/26/1998</td>\n",
       "      <td>NaN</td>\n",
       "      <td>bonrip</td>\n",
       "      <td>2C</td>\n",
       "      <td>414D320671</td>\n",
       "      <td>NaN</td>\n",
       "      <td>M</td>\n",
       "      <td>NaN</td>\n",
       "      <td>1430.0</td>\n",
       "      <td>NaN</td>\n",
       "      <td>NaN</td>\n",
       "      <td>936.0</td>\n",
       "      <td>51</td>\n",
       "      <td>Population</td>\n",
       "      <td>male</td>\n",
       "    </tr>\n",
       "    <tr>\n",
       "      <th>2</th>\n",
       "      <td>11/26/1998</td>\n",
       "      <td>NaN</td>\n",
       "      <td>bonrip</td>\n",
       "      <td>2D</td>\n",
       "      <td>414D103E3A</td>\n",
       "      <td>NaN</td>\n",
       "      <td>M</td>\n",
       "      <td>NaN</td>\n",
       "      <td>1430.0</td>\n",
       "      <td>NaN</td>\n",
       "      <td>NaN</td>\n",
       "      <td>921.0</td>\n",
       "      <td>51</td>\n",
       "      <td>Population</td>\n",
       "      <td>male</td>\n",
       "    </tr>\n",
       "    <tr>\n",
       "      <th>3</th>\n",
       "      <td>11/26/1998</td>\n",
       "      <td>NaN</td>\n",
       "      <td>bonrip</td>\n",
       "      <td>2E</td>\n",
       "      <td>414D262D43</td>\n",
       "      <td>NaN</td>\n",
       "      <td>NaN</td>\n",
       "      <td>NaN</td>\n",
       "      <td>1490.0</td>\n",
       "      <td>135.0</td>\n",
       "      <td>NaN</td>\n",
       "      <td>931.0</td>\n",
       "      <td>51</td>\n",
       "      <td>Population</td>\n",
       "      <td>nan</td>\n",
       "    </tr>\n",
       "    <tr>\n",
       "      <th>4</th>\n",
       "      <td>11/26/1998</td>\n",
       "      <td>NaN</td>\n",
       "      <td>bonrip</td>\n",
       "      <td>3B</td>\n",
       "      <td>414D2B4B58</td>\n",
       "      <td>NaN</td>\n",
       "      <td>NaN</td>\n",
       "      <td>NaN</td>\n",
       "      <td>1710.0</td>\n",
       "      <td>150.0</td>\n",
       "      <td>NaN</td>\n",
       "      <td>933.0</td>\n",
       "      <td>51</td>\n",
       "      <td>Population</td>\n",
       "      <td>nan</td>\n",
       "    </tr>\n",
       "  </tbody>\n",
       "</table>\n",
       "</div>"
      ],
      "text/plain": [
       "         date time    grid trap       l_ear r_ear  sex  age  weight  hindft  \\\n",
       "0  11/26/1998  NaN  bonrip   1A  414D096A08   NaN  NaN  NaN  1370.0   160.0   \n",
       "1  11/26/1998  NaN  bonrip   2C  414D320671   NaN    M  NaN  1430.0     NaN   \n",
       "2  11/26/1998  NaN  bonrip   2D  414D103E3A   NaN    M  NaN  1430.0     NaN   \n",
       "3  11/26/1998  NaN  bonrip   2E  414D262D43   NaN  NaN  NaN  1490.0   135.0   \n",
       "4  11/26/1998  NaN  bonrip   3B  414D2B4B58   NaN  NaN  NaN  1710.0   150.0   \n",
       "\n",
       "  notes  b_key  session_id       study simple_sex  \n",
       "0   NaN  917.0          51  Population        nan  \n",
       "1   NaN  936.0          51  Population       male  \n",
       "2   NaN  921.0          51  Population       male  \n",
       "3   NaN  931.0          51  Population        nan  \n",
       "4   NaN  933.0          51  Population        nan  "
      ]
     },
     "execution_count": 33,
     "metadata": {},
     "output_type": "execute_result"
    }
   ],
   "source": [
    "# Create a list with the conditions\n",
    "conditions = [\n",
    "    hares['sex'].isin(['F', 'f', 'f?', 'F?']),\n",
    "    hares['sex'].isin(['M', 'm', 'm?', 'M?'])\n",
    "]\n",
    "\n",
    "# Create a list with the choices\n",
    "choices = [\"female\",\n",
    "           \"male\"]\n",
    "\n",
    "# Add the selections using np.select\n",
    "hares['simple_sex'] = np.select(conditions, \n",
    "                             choices, \n",
    "                             default=np.nan) # Value for anything outside conditions\n",
    "\n",
    "# Display the updated data frame to confirm the new column\n",
    "hares.head()"
   ]
  },
  {
   "cell_type": "code",
   "execution_count": null,
   "id": "b484f8de-c018-4195-8350-0068f7363bd7",
   "metadata": {},
   "outputs": [],
   "source": []
  }
 ],
 "metadata": {
  "kernelspec": {
   "display_name": "Anaconda 3 (Base)",
   "language": "python",
   "name": "base"
  },
  "language_info": {
   "codemirror_mode": {
    "name": "ipython",
    "version": 3
   },
   "file_extension": ".py",
   "mimetype": "text/x-python",
   "name": "python",
   "nbconvert_exporter": "python",
   "pygments_lexer": "ipython3",
   "version": "3.9.13"
  }
 },
 "nbformat": 4,
 "nbformat_minor": 5
}
